{
  "nbformat": 4,
  "nbformat_minor": 0,
  "metadata": {
    "colab": {
      "name": "Untitled6.ipynb",
      "provenance": [],
      "collapsed_sections": [],
      "authorship_tag": "ABX9TyM6mA+PfQw0hRr2rixkIN9H",
      "include_colab_link": true
    },
    "kernelspec": {
      "name": "python3",
      "display_name": "Python 3"
    },
    "language_info": {
      "name": "python"
    }
  },
  "cells": [
    {
      "cell_type": "markdown",
      "metadata": {
        "id": "view-in-github",
        "colab_type": "text"
      },
      "source": [
        "<a href=\"https://colab.research.google.com/github/jorguzb/Spark/blob/master/Linear_regression.ipynb\" target=\"_parent\"><img src=\"https://colab.research.google.com/assets/colab-badge.svg\" alt=\"Open In Colab\"/></a>"
      ]
    },
    {
      "cell_type": "code",
      "source": [
        "!apt-get install openjdk-8-jdk-headless -qq > /dev/null\n",
        "!wget -q https://dlcdn.apache.org/spark/spark-3.2.0/spark-3.2.0-bin-hadoop3.2.tgz\n",
        "!tar xf spark-3.2.0-bin-hadoop3.2.tgz\n",
        "!pip install -q findspark"
      ],
      "metadata": {
        "id": "7MR1o79XcrPT"
      },
      "execution_count": 4,
      "outputs": []
    },
    {
      "cell_type": "code",
      "source": [
        "import os\n",
        "os.environ[\"JAVA_HOME\"] = \"/usr/lib/jvm/java-8-openjdk-amd64\"\n",
        "os.environ[\"SPARK_HOME\"] = \"/content/spark-3.2.0-bin-hadoop3.2\""
      ],
      "metadata": {
        "id": "Oetyu9Rbcr5L"
      },
      "execution_count": 6,
      "outputs": []
    },
    {
      "cell_type": "code",
      "source": [
        "import findspark\n",
        "findspark.init()\n",
        "from pyspark.sql import SparkSession\n",
        "spark = SparkSession.builder.master(\"local[*]\").getOrCreate()"
      ],
      "metadata": {
        "id": "TSkdgxgNcsKV"
      },
      "execution_count": 7,
      "outputs": []
    },
    {
      "cell_type": "code",
      "source": [
        "import pandas as pd\n",
        "db=pd.read_csv('https://raw.githubusercontent.com/selva86/datasets/master/BostonHousing.csv')"
      ],
      "metadata": {
        "id": "MvsuCFw1gynR"
      },
      "execution_count": 14,
      "outputs": []
    },
    {
      "cell_type": "code",
      "source": [
        "from pyspark.sql import SparkSession\n",
        "#Create PySpark SparkSession\n",
        "spark = SparkSession.builder \\\n",
        "    .master(\"local[1]\") \\\n",
        "    .appName(\"SparkByExamples.com\") \\\n",
        "    .getOrCreate()\n",
        "#Create PySpark DataFrame from Pandas\n",
        "sparkDF=spark.createDataFrame(db) \n",
        "sparkDF.printSchema()\n",
        "sparkDF.show()\n"
      ],
      "metadata": {
        "colab": {
          "base_uri": "https://localhost:8080/"
        },
        "id": "j63e_BXTioR_",
        "outputId": "1889cac9-6811-49a4-c3b9-68a788d63504"
      },
      "execution_count": 19,
      "outputs": [
        {
          "output_type": "stream",
          "name": "stdout",
          "text": [
            "root\n",
            " |-- crim: double (nullable = true)\n",
            " |-- zn: double (nullable = true)\n",
            " |-- indus: double (nullable = true)\n",
            " |-- chas: long (nullable = true)\n",
            " |-- nox: double (nullable = true)\n",
            " |-- rm: double (nullable = true)\n",
            " |-- age: double (nullable = true)\n",
            " |-- dis: double (nullable = true)\n",
            " |-- rad: long (nullable = true)\n",
            " |-- tax: long (nullable = true)\n",
            " |-- ptratio: double (nullable = true)\n",
            " |-- b: double (nullable = true)\n",
            " |-- lstat: double (nullable = true)\n",
            " |-- medv: double (nullable = true)\n",
            "\n",
            "+--------------------+----+-----+----+-------------------+------------------+-----+------+---+---+-------+------+-----+----+\n",
            "|                crim|  zn|indus|chas|                nox|                rm|  age|   dis|rad|tax|ptratio|     b|lstat|medv|\n",
            "+--------------------+----+-----+----+-------------------+------------------+-----+------+---+---+-------+------+-----+----+\n",
            "|             0.00632|18.0| 2.31|   0| 0.5379999999999999|             6.575| 65.2|  4.09|  1|296|   15.3| 396.9| 4.98|24.0|\n",
            "|             0.02731| 0.0| 7.07|   0|              0.469|             6.421| 78.9|4.9671|  2|242|   17.8| 396.9| 9.14|21.6|\n",
            "|             0.02729| 0.0| 7.07|   0|              0.469|             7.185| 61.1|4.9671|  2|242|   17.8|392.83| 4.03|34.7|\n",
            "|0.032369999999999996| 0.0| 2.18|   0|0.45799999999999996| 6.997999999999999| 45.8|6.0622|  3|222|   18.7|394.63| 2.94|33.4|\n",
            "|             0.06905| 0.0| 2.18|   0|0.45799999999999996|             7.147| 54.2|6.0622|  3|222|   18.7| 396.9| 5.33|36.2|\n",
            "|             0.02985| 0.0| 2.18|   0|0.45799999999999996|              6.43| 58.7|6.0622|  3|222|   18.7|394.12| 5.21|28.7|\n",
            "|             0.08829|12.5| 7.87|   0|              0.524|6.0120000000000005| 66.6|5.5605|  5|311|   15.2| 395.6|12.43|22.9|\n",
            "|             0.14455|12.5| 7.87|   0|              0.524| 6.172000000000001| 96.1|5.9505|  5|311|   15.2| 396.9|19.15|27.1|\n",
            "|             0.21124|12.5| 7.87|   0|              0.524|             5.631|100.0|6.0821|  5|311|   15.2|386.63|29.93|16.5|\n",
            "|             0.17004|12.5| 7.87|   0|              0.524|             6.004| 85.9|6.5921|  5|311|   15.2|386.71| 17.1|18.9|\n",
            "|             0.22489|12.5| 7.87|   0|              0.524| 6.377000000000001| 94.3|6.3467|  5|311|   15.2|392.52|20.45|15.0|\n",
            "|             0.11747|12.5| 7.87|   0|              0.524|6.0089999999999995| 82.9|6.2267|  5|311|   15.2| 396.9|13.27|18.9|\n",
            "|             0.09378|12.5| 7.87|   0|              0.524| 5.888999999999999| 39.0|5.4509|  5|311|   15.2| 390.5|15.71|21.7|\n",
            "|             0.62976| 0.0| 8.14|   0| 0.5379999999999999|             5.949| 61.8|4.7075|  4|307|   21.0| 396.9| 8.26|20.4|\n",
            "|  0.6379600000000001| 0.0| 8.14|   0| 0.5379999999999999|             6.096| 84.5|4.4619|  4|307|   21.0|380.02|10.26|18.2|\n",
            "|             0.62739| 0.0| 8.14|   0| 0.5379999999999999|             5.834| 56.5|4.4986|  4|307|   21.0|395.62| 8.47|19.9|\n",
            "|             1.05393| 0.0| 8.14|   0| 0.5379999999999999|             5.935| 29.3|4.4986|  4|307|   21.0|386.85| 6.58|23.1|\n",
            "|              0.7842| 0.0| 8.14|   0| 0.5379999999999999|              5.99| 81.7|4.2579|  4|307|   21.0|386.75|14.67|17.5|\n",
            "|             0.80271| 0.0| 8.14|   0| 0.5379999999999999|             5.456| 36.6|3.7965|  4|307|   21.0|288.99|11.69|20.2|\n",
            "|              0.7258| 0.0| 8.14|   0| 0.5379999999999999|             5.727| 69.5|3.7965|  4|307|   21.0|390.95|11.28|18.2|\n",
            "+--------------------+----+-----+----+-------------------+------------------+-----+------+---+---+-------+------+-----+----+\n",
            "only showing top 20 rows\n",
            "\n"
          ]
        }
      ]
    },
    {
      "cell_type": "code",
      "source": [
        "from pyspark.ml.feature import VectorAssembler\n",
        "from pyspark.ml.regression import LinearRegression\n",
        "#dataset = spark.read.csv(sparkDF,inferSchema=True, header =True)"
      ],
      "metadata": {
        "id": "FxDL2p5Zins4"
      },
      "execution_count": 21,
      "outputs": []
    },
    {
      "cell_type": "code",
      "source": [
        "#Input all the features in one vector column\n",
        "assembler = VectorAssembler(inputCols=['crim', 'zn', 'indus', 'chas', 'nox', 'rm', 'age', 'dis', 'rad', 'tax', 'ptratio', 'b', 'lstat'], outputCol = 'Attributes')\n",
        "output = assembler.transform(sparkDF)\n",
        "#Input vs Output\n",
        "finalized_data = output.select(\"Attributes\",\"medv\")\n",
        "finalized_data.show()"
      ],
      "metadata": {
        "colab": {
          "base_uri": "https://localhost:8080/"
        },
        "id": "sESJvtRHitk3",
        "outputId": "a6eecf70-a551-4716-eaea-5b16d81fc473"
      },
      "execution_count": 22,
      "outputs": [
        {
          "output_type": "stream",
          "name": "stdout",
          "text": [
            "+--------------------+----+\n",
            "|          Attributes|medv|\n",
            "+--------------------+----+\n",
            "|[0.00632,18.0,2.3...|24.0|\n",
            "|[0.02731,0.0,7.07...|21.6|\n",
            "|[0.02729,0.0,7.07...|34.7|\n",
            "|[0.03236999999999...|33.4|\n",
            "|[0.06905,0.0,2.18...|36.2|\n",
            "|[0.02985,0.0,2.18...|28.7|\n",
            "|[0.08829,12.5,7.8...|22.9|\n",
            "|[0.14455,12.5,7.8...|27.1|\n",
            "|[0.21124,12.5,7.8...|16.5|\n",
            "|[0.17004,12.5,7.8...|18.9|\n",
            "|[0.22489,12.5,7.8...|15.0|\n",
            "|[0.11747,12.5,7.8...|18.9|\n",
            "|[0.09378,12.5,7.8...|21.7|\n",
            "|[0.62976,0.0,8.14...|20.4|\n",
            "|[0.63796000000000...|18.2|\n",
            "|[0.62739,0.0,8.14...|19.9|\n",
            "|[1.05393,0.0,8.14...|23.1|\n",
            "|[0.7842,0.0,8.14,...|17.5|\n",
            "|[0.80271,0.0,8.14...|20.2|\n",
            "|[0.7258,0.0,8.14,...|18.2|\n",
            "+--------------------+----+\n",
            "only showing top 20 rows\n",
            "\n"
          ]
        }
      ]
    },
    {
      "cell_type": "code",
      "source": [
        "#Split training and testing data\n",
        "train_data,test_data = finalized_data.randomSplit([0.8,0.2])\n",
        "regressor = LinearRegression(featuresCol = 'Attributes', labelCol = 'medv')\n",
        "#Learn to fit the model from training set\n",
        "regressor = regressor.fit(train_data)\n",
        "#To predict the prices on testing set\n",
        "pred = regressor.evaluate(test_data)\n",
        "#Predict the model\n",
        "pred.predictions.show()"
      ],
      "metadata": {
        "colab": {
          "base_uri": "https://localhost:8080/"
        },
        "id": "rBLm1gkOit_n",
        "outputId": "ad58a1f7-1d0e-4086-ee71-67ad86ebfc8c"
      },
      "execution_count": 23,
      "outputs": [
        {
          "output_type": "stream",
          "name": "stderr",
          "text": [
            "/content/spark-3.2.0-bin-hadoop3.2/python/pyspark/sql/context.py:127: FutureWarning: Deprecated in 3.0.0. Use SparkSession.builder.getOrCreate() instead.\n",
            "  FutureWarning\n"
          ]
        },
        {
          "output_type": "stream",
          "name": "stdout",
          "text": [
            "+--------------------+----+------------------+\n",
            "|          Attributes|medv|        prediction|\n",
            "+--------------------+----+------------------+\n",
            "|[0.02055,85.0,0.7...|24.7|25.209452817129254|\n",
            "|[0.0315,95.0,1.47...|34.9|29.898219591398952|\n",
            "|[0.0351,95.0,2.68...|48.5|41.988993574630484|\n",
            "|[0.03584,80.0,3.3...|23.5| 30.49307795090272|\n",
            "|[0.04203,28.0,15....|22.9| 28.83913091495534|\n",
            "|[0.04666,80.0,1.5...|30.3| 32.81486046399627|\n",
            "|[0.04981,21.0,5.6...|23.4|24.051733591356623|\n",
            "|[0.05646,0.0,12.8...|21.2|20.994614124664388|\n",
            "|[0.0566,0.0,3.41,...|23.6|30.772692987201605|\n",
            "|[0.05735,0.0,4.49...|26.6|27.758327422520942|\n",
            "|[0.06911,45.0,3.4...|30.5|30.056269202332146|\n",
            "|[0.07022,0.0,4.05...|23.2|25.776108964842958|\n",
            "|[0.08187,0.0,2.89...|43.8|34.317198856672405|\n",
            "|[0.08829,12.5,7.8...|22.9|23.332352692670074|\n",
            "|[0.09178,0.0,4.05...|23.6|29.466716484883747|\n",
            "|[0.09252,30.0,4.9...|23.3|28.448086896253226|\n",
            "|[0.09512000000000...|21.4| 23.54612973748441|\n",
            "|[0.11329000000000...|22.0| 27.36299137958996|\n",
            "|[0.11504,0.0,2.89...|21.4|25.114203426866034|\n",
            "|[0.12204000000000...|28.4| 28.65492713049838|\n",
            "+--------------------+----+------------------+\n",
            "only showing top 20 rows\n",
            "\n"
          ]
        }
      ]
    },
    {
      "cell_type": "code",
      "source": [
        "#coefficient of the regression model\n",
        "coeff = regressor.coefficients\n",
        "#X and Y intercept\n",
        "intr = regressor.intercept\n",
        "print (\"The coefficient of the model is : %a\" %coeff)\n",
        "print (\"The Intercept of the model is : %f\" %intr)"
      ],
      "metadata": {
        "colab": {
          "base_uri": "https://localhost:8080/"
        },
        "id": "Wlj3xIyrlw5j",
        "outputId": "71846cb6-d651-44f1-9b3b-41064a9401a1"
      },
      "execution_count": 24,
      "outputs": [
        {
          "output_type": "stream",
          "name": "stdout",
          "text": [
            "The coefficient of the model is : DenseVector([-0.11, 0.0531, -0.0097, 2.4274, -18.3299, 3.3767, 0.0118, -1.4907, 0.327, -0.014, -0.9667, 0.0082, -0.5117])\n",
            "The Intercept of the model is : 40.065599\n"
          ]
        }
      ]
    },
    {
      "cell_type": "code",
      "source": [
        "from pyspark.ml.evaluation import RegressionEvaluator\n",
        "eval = RegressionEvaluator(labelCol=\"medv\", predictionCol=\"prediction\", metricName=\"rmse\")\n",
        "# Root Mean Square Error\n",
        "rmse = eval.evaluate(pred.predictions)\n",
        "print(\"RMSE: %.3f\" % rmse)\n",
        "# Mean Square Error\n",
        "mse = eval.evaluate(pred.predictions, {eval.metricName: \"mse\"})\n",
        "print(\"MSE: %.3f\" % mse)\n",
        "# Mean Absolute Error\n",
        "mae = eval.evaluate(pred.predictions, {eval.metricName: \"mae\"})\n",
        "print(\"MAE: %.3f\" % mae)\n",
        "# r2 - coefficient of determination\n",
        "r2 = eval.evaluate(pred.predictions, {eval.metricName: \"r2\"})\n",
        "print(\"r2: %.3f\" %r2)"
      ],
      "metadata": {
        "colab": {
          "base_uri": "https://localhost:8080/"
        },
        "id": "W6HK4Fw4mGfa",
        "outputId": "fb0094af-f294-4451-b08b-9f3622d86189"
      },
      "execution_count": 25,
      "outputs": [
        {
          "output_type": "stream",
          "name": "stderr",
          "text": [
            "/content/spark-3.2.0-bin-hadoop3.2/python/pyspark/sql/context.py:127: FutureWarning: Deprecated in 3.0.0. Use SparkSession.builder.getOrCreate() instead.\n",
            "  FutureWarning\n"
          ]
        },
        {
          "output_type": "stream",
          "name": "stdout",
          "text": [
            "RMSE: 5.575\n",
            "MSE: 31.075\n",
            "MAE: 3.799\n",
            "r2: 0.686\n"
          ]
        }
      ]
    },
    {
      "cell_type": "code",
      "source": [
        "test_pred = regressor.evaluate(test_data)\n",
        "print (pred)"
      ],
      "metadata": {
        "id": "jcMs_XFUlw3E"
      },
      "execution_count": null,
      "outputs": []
    },
    {
      "cell_type": "code",
      "source": [
        "print(test_data)"
      ],
      "metadata": {
        "colab": {
          "base_uri": "https://localhost:8080/"
        },
        "id": "aHS8K712lwwK",
        "outputId": "4785634d-25ad-4bbf-e33f-c7715e848d76"
      },
      "execution_count": 26,
      "outputs": [
        {
          "output_type": "stream",
          "name": "stdout",
          "text": [
            "DataFrame[Attributes: vector, medv: double]\n"
          ]
        }
      ]
    },
    {
      "cell_type": "code",
      "source": [
        ""
      ],
      "metadata": {
        "id": "idI2vFDnlwgr"
      },
      "execution_count": null,
      "outputs": []
    }
  ]
}